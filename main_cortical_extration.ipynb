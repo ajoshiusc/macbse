{
 "cells": [
  {
   "cell_type": "code",
   "execution_count": 1,
   "metadata": {},
   "outputs": [],
   "source": [
    "#!/usr/bin/env python\n",
    "import os\n",
    "from sys import prefix\n",
    "import nibabel as nib\n",
    "from macbse import macbse\n",
    "\n",
    "import SimpleITK as sitk\n",
    "\n",
    "\n",
    "# Define paths\n",
    "bse_model = \"models/bias_field_correction_model_2024-03-02_22-29-46_epoch_9000.pth\"\n",
    "\n",
    "prefix = \"sub-032196_ses-001_run-1_T1w_bst\"\n",
    "mri = f\"{prefix}.nii.gz\"\n",
    "\n",
    "bseout = f\"{prefix}.bse.nii.gz\"\n",
    "bfcout = f\"{prefix}.bfc.nii.gz\"\n",
    "biasfield = f\"{prefix}.bias.nii.gz\"\n",
    "maskfile = f\"{prefix}.mask.nii.gz\"\n",
    "cerebrum_maskfile = f\"{prefix}.cerebrum.mask.nii.gz\"\n",
    "pvcfile = f\"{prefix}.pvc.frac.nii.gz\"\n",
    "pvc_label_file = f\"{prefix}.pvc.label.nii.gz\"\n",
    "warped_air_atlas = f'{prefix}.warped.airatlas.nii.gz'\n",
    "warped_air_labels = f'{prefix}.hemi.label.nii.gz'\n",
    "air_atlas = \"/home/ajoshi/Downloads/VERVET/brainsuite/VALiDATe12-airatlas/VALiDATe12-t1.airatlas.nii.gz\"\n",
    "air_atlas_labels = \"/home/ajoshi/Downloads/VERVET/brainsuite/VALiDATe12-airatlas/VALiDATe12-t1.airatlas.label.nii.gz\"\n",
    "\n",
    "reg_mat = f\"{prefix}.airatlas.mat\"\n"
   ]
  },
  {
   "cell_type": "code",
   "execution_count": 2,
   "metadata": {},
   "outputs": [
    {
     "name": "stdout",
     "output_type": "stream",
     "text": [
      "metatensor(0.9691, device='cuda:0') metatensor(0.0073, device='cuda:0')\n"
     ]
    }
   ],
   "source": [
    "\n",
    "\n",
    "macbse(mri, bseout, bse_model, maskfile, device=\"cuda\")\n",
    "\n",
    "\n",
    "# use SImpleITK to perform bias field correction\n",
    "# Read the input image\n",
    "inputImage = sitk.ReadImage(bseout)\n",
    "\n",
    "# Set up for processing\n",
    "maskImage = sitk.ReadImage(maskfile)\n",
    "inputImage = sitk.Cast(inputImage, sitk.sitkFloat32)\n",
    "maskImage = sitk.Cast(maskImage, sitk.sitkUInt8)\n"
   ]
  },
  {
   "cell_type": "code",
   "execution_count": 3,
   "metadata": {},
   "outputs": [],
   "source": [
    "\n",
    "# Apply the N4BiasFieldCorrection filter\n",
    "corrector = sitk.N4BiasFieldCorrectionImageFilter()\n",
    "corrector.SetMaximumNumberOfIterations([50] * 3)\n",
    "corrector.SetConvergenceThreshold(1e-6)\n",
    "corrector.SetBiasFieldFullWidthAtHalfMaximum(0.15)\n",
    "\n",
    "# Execute the filter\n",
    "outputImage = corrector.Execute(inputImage, maskImage)\n",
    "log_bias_field = corrector.GetLogBiasFieldAsImage(inputImage)\n",
    "bias_field = sitk.Exp(log_bias_field)\n",
    "\n",
    "# Write the result\n",
    "sitk.WriteImage(outputImage, bfcout)\n",
    "sitk.WriteImage(log_bias_field, biasfield)\n"
   ]
  },
  {
   "cell_type": "code",
   "execution_count": 4,
   "metadata": {},
   "outputs": [
    {
     "data": {
      "text/plain": [
       "0"
      ]
     },
     "execution_count": 4,
     "metadata": {},
     "output_type": "execute_result"
    }
   ],
   "source": [
    "\n",
    "# do tissue classification in WM GM and CSF. Use FSL's FAST from the command line\n",
    "# fsl5.0-fast -t 1 -n 3 -g -o sub-032196_ses-001_run-1_T1w.bfc.nii.gz sub-032196_ses-001_run-1_T1w.bfc.nii.gz\n",
    "\n",
    "# do tissue classification in WM GM and CSF. Use FSL's FAST from the command line\n",
    "os.system(f\"fast -t 1 -n 3 -g -o {prefix} {bfcout}\")\n",
    "\n"
   ]
  },
  {
   "cell_type": "code",
   "execution_count": 5,
   "metadata": {},
   "outputs": [],
   "source": [
    "\n",
    "# Generate Isosurface from the white matter probability map\n",
    "from calendar import c\n",
    "import numpy as np\n",
    "import matplotlib.pyplot as plt\n",
    "from skimage import measure\n",
    "from mpl_toolkits.mplot3d.art3d import Poly3DCollection\n",
    "import nibabel as nib\n",
    "\n",
    "# Load the tissue probability maps\n",
    "gm = nib.load(f\"{prefix}_pve_1.nii.gz\").get_fdata()\n",
    "wm = nib.load(f\"{prefix}_pve_2.nii.gz\").get_fdata()\n",
    "csf = nib.load(f\"{prefix}_pve_0.nii.gz\").get_fdata()\n",
    "\n",
    "affine = nib.load(f\"{prefix}_pve_0.nii.gz\").affine\n",
    "\n",
    "csf_msk = np.double(csf > 0)\n",
    "gm_msk = np.double(gm > 0)\n",
    "wm_msk = np.double(wm > 0)\n",
    "\n",
    "pvc_frac = 1 * csf_msk*(gm_msk==0) \n",
    "pvc_frac += (wm_msk==0)*gm_msk*(1+gm)\n",
    "pvc_frac += wm_msk*(2+wm)\n",
    "\n",
    "\n",
    "nib.save(nib.Nifti1Image(np.float32(pvc_frac), affine=affine), pvcfile)\n",
    "\n",
    "nib.save(nib.Nifti1Image(np.uint8(pvc_frac), affine=affine), pvc_label_file)\n"
   ]
  },
  {
   "cell_type": "code",
   "execution_count": 6,
   "metadata": {},
   "outputs": [],
   "source": [
    "cmd = f\"flirt -in {air_atlas} -ref {bfcout} -out {warped_air_atlas} -omat {reg_mat}\"\n",
    "os.system(cmd)\n",
    "\n",
    "cmd = f\"flirt -in {air_atlas_labels} -ref {bfcout} -out {warped_air_labels} -applyxfm -init {reg_mat} -interp nearestneighbour\"\n",
    "os.system(cmd)\n",
    "\n",
    "\n",
    "v = nib.load(warped_air_labels).get_fdata()\n",
    "v = np.uint8(v)\n",
    "nib.save(nib.Nifti1Image(v, affine=affine), warped_air_labels)\n"
   ]
  },
  {
   "cell_type": "code",
   "execution_count": 7,
   "metadata": {},
   "outputs": [],
   "source": [
    "v=nib.load(warped_air_labels).get_fdata()\n",
    "m = nib.load(maskfile).get_fdata()\n",
    "m[(v==3) | (v == 4)] = 0\n",
    "m = (m > 0.5)\n",
    "nib.save(nib.Nifti1Image(255*np.uint8(m), affine=affine), cerebrum_maskfile)\n"
   ]
  },
  {
   "cell_type": "code",
   "execution_count": 8,
   "metadata": {},
   "outputs": [
    {
     "ename": "IndentationError",
     "evalue": "unexpected indent (3978296984.py, line 3)",
     "output_type": "error",
     "traceback": [
      "\u001b[0;36m  Cell \u001b[0;32mIn[8], line 3\u001b[0;36m\u001b[0m\n\u001b[0;31m    gm[gm < threshold] = 0\u001b[0m\n\u001b[0m    ^\u001b[0m\n\u001b[0;31mIndentationError\u001b[0m\u001b[0;31m:\u001b[0m unexpected indent\n"
     ]
    }
   ],
   "source": [
    "\n",
    "# Threshold the tissue probability maps\n",
    "threshold = 0.5\n",
    "  gm[gm < threshold] = 0\n",
    "  wm[wm < threshold] = 0\n",
    "  csf[csf < threshold] = 0\n",
    "\n",
    "# Generate isosurfaces\n",
    "verts_gm, faces_gm, _, _ = measure.marching_cubes(gm, level=0.5)\n",
    "verts_wm, faces_wm, _, _ = measure.marching_cubes(wm, level=0.5)\n",
    "verts_csf, faces_csf, _, _ = measure.marching_cubes(csf, level=0.5)\n",
    "\n",
    "\n",
    "# Plot the isosurfaces\n",
    "fig = plt.figure(figsize=(10, 10))\n",
    "ax = fig.add_subplot(111, projection=\"3d\")\n",
    "\n",
    "# Fancy indexing: `verts[faces]` to generate a collection of trisurf objects\n",
    "mesh_gm = Poly3DCollection(verts_gm[faces_gm], alpha=0.1)\n",
    "mesh_wm = Poly3DCollection(verts_wm[faces_wm], alpha=0.1)\n",
    "mesh_csf = Poly3DCollection(verts_csf[faces_csf], alpha=0.1)\n",
    "\n",
    "face_color = [0.5, 0.5, 1]\n",
    "mesh_gm.set_facecolor(face_color)\n",
    "mesh_wm.set_facecolor(face_color)\n",
    "mesh_csf.set_facecolor(face_color)\n",
    "\n",
    "ax.add_collection3d(mesh_gm)\n",
    "ax.add_collection3d(mesh_wm)\n",
    "ax.add_collection3d(mesh_csf)\n",
    "\n",
    "ax.set_xlim(0, gm.shape[0])\n",
    "ax.set_ylim(0, gm.shape[1])\n",
    "ax.set_zlim(0, gm.shape[2])\n",
    "\n",
    "plt.show()\n",
    "\n"
   ]
  },
  {
   "cell_type": "code",
   "execution_count": null,
   "metadata": {},
   "outputs": [],
   "source": []
  },
  {
   "cell_type": "code",
   "execution_count": null,
   "metadata": {},
   "outputs": [],
   "source": [
    "\n",
    "from dfsio import readdfs, writedfs\n",
    "import numpy as np\n",
    "\n",
    "class s:\n",
    "    pass\n",
    "\n",
    "s.faces = faces_gm\n",
    "s.vertices = verts_gm\n",
    "\n",
    "writedfs(\"gm_isosurfaces.dfs\", s)\n",
    "\n",
    "\n",
    "s.faces = faces_wm\n",
    "s.vertices = verts_wm\n",
    "\n",
    "writedfs(\"wm_isosurfaces.dfs\", s)\n"
   ]
  },
  {
   "cell_type": "code",
   "execution_count": null,
   "metadata": {},
   "outputs": [],
   "source": [
    "\n",
    "# Save the isosurfaces as a DFS file\n",
    "import nibabel as nib\n",
    "from nibabel import freesurfer\n",
    "import numpy as np\n",
    "\n",
    "# Create a NIfTI image from the isosurfaces\n",
    "data = np.zeros((256, 256, 256))\n",
    "data[verts_gm[:, 0], verts_gm[:, 1], verts_gm[:, 2]] = 1\n",
    "data[verts_wm[:, 0], verts_wm[:, 1], verts_wm[:, 2]] = 2\n",
    "data[verts_csf[:, 0], verts_csf[:, 1], verts_csf[:, 2]] = 3\n",
    "\n",
    "# Save the NIfTI image\n",
    "img = nib.Nifti1Image(data, np.eye(4))\n",
    "nib.save(img, \"tissue_isosurfaces.nii.gz\")\n",
    "\n",
    "\n",
    "# Save the isosurfaces as a DFS file\n",
    "freesurfer.write_geometry(\n",
    "    \"tissue_isosurfaces.dfs\", verts_gm, faces_gm)\n",
    "\n",
    "freesurfer.write_geometry(\n",
    "    \"tissue_isosurfaces.dfs\", verts_wm, faces_wm)\n",
    "\n"
   ]
  },
  {
   "cell_type": "code",
   "execution_count": null,
   "metadata": {},
   "outputs": [],
   "source": []
  },
  {
   "cell_type": "code",
   "execution_count": null,
   "metadata": {},
   "outputs": [],
   "source": [
    "verts_gm"
   ]
  },
  {
   "cell_type": "code",
   "execution_count": null,
   "metadata": {},
   "outputs": [],
   "source": [
    "\n",
    "\n",
    "# Save the isosurfaces as a DFS file\n",
    "freesurfer.write_geometry(\n",
    "    \"tissue_isosurfaces.dfs\", verts_gm, faces_gm, labels=np.ones(verts_gm.shape[0])\n",
    ")\n",
    "freesurfer.write_geometry(\n",
    "    \"tissue_isosurfaces.dfs\", verts_wm, faces_wm, labels=np.ones(verts_wm.shape[0])\n",
    ")\n",
    "\n",
    "\n",
    "# Create output directory if not exists\n",
    "if not os.path.exists(output_dir):\n",
    "    os.makedirs(output_dir)\n",
    "\n",
    "# Load T1 image\n",
    "t1_img = nib.load(input_path)\n",
    "\n",
    "# Skull stripping\n",
    "skullstrip = BET()\n",
    "skullstrip.inputs.in_file = input_path\n",
    "skullstrip.inputs.out_file = os.path.join(output_dir, \"skullstripped.nii.gz\")\n",
    "skullstrip.run()\n",
    "\n",
    "# Tissue classification\n",
    "tissue_class = FAST()\n",
    "tissue_class.inputs.in_files = os.path.join(output_dir, \"skullstripped.nii.gz\")\n",
    "tissue_class.inputs.out_basename = \"tissue_classified\"\n",
    "tissue_class.run()\n",
    "\n",
    "# Output tissue probability maps\n",
    "tissue_prob_files = [\n",
    "    os.path.join(output_dir, \"tissue_classified_pve_0.nii.gz\"),  # GM\n",
    "    os.path.join(output_dir, \"tissue_classified_pve_1.nii.gz\"),  # WM\n",
    "    os.path.join(output_dir, \"tissue_classified_pve_2.nii.gz\"),  # CSF\n",
    "]\n",
    "\n",
    "# Saving tissue probability maps as separate NIfTI files\n",
    "for i, tissue_prob_file in enumerate(tissue_prob_files):\n",
    "    tissue_prob_map = nib.load(tissue_prob_file)\n",
    "    nib.save(tissue_prob_map, os.path.join(output_dir, f\"tissue_classified_{i}.nii.gz\"))\n",
    "\n",
    "print(\"Processing complete. Output files saved in:\", output_dir)"
   ]
  },
  {
   "cell_type": "code",
   "execution_count": null,
   "metadata": {},
   "outputs": [],
   "source": []
  }
 ],
 "metadata": {
  "kernelspec": {
   "display_name": "base",
   "language": "python",
   "name": "python3"
  },
  "language_info": {
   "codemirror_mode": {
    "name": "ipython",
    "version": 3
   },
   "file_extension": ".py",
   "mimetype": "text/x-python",
   "name": "python",
   "nbconvert_exporter": "python",
   "pygments_lexer": "ipython3",
   "version": "3.11.5"
  }
 },
 "nbformat": 4,
 "nbformat_minor": 2
}
