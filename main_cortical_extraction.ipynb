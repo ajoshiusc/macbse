{
 "cells": [
  {
   "cell_type": "code",
   "execution_count": null,
   "metadata": {},
   "outputs": [],
   "source": [
    "#!/usr/bin/env python\n",
    "import os\n",
    "from sys import prefix\n",
    "import nibabel as nib\n",
    "from macbse import macbse\n",
    "\n",
    "import SimpleITK as sitk\n",
    "\n",
    "\n",
    "# Define paths\n",
    "bse_model = \"models/bias_field_correction_model_2024-03-02_22-29-46_epoch_9000.pth\"\n",
    "\n",
    "prefix = \"sub-032196_ses-001_run-1_T1w_bst\"\n",
    "mri = f\"{prefix}.nii.gz\"\n",
    "\n",
    "bseout = f\"{prefix}.bse.nii.gz\"\n",
    "bfcout = f\"{prefix}.bfc.nii.gz\"\n",
    "biasfield = f\"{prefix}.bias.nii.gz\"\n",
    "maskfile = f\"{prefix}.mask.nii.gz\"\n",
    "cerebrum_maskfile = f\"{prefix}.cerebrum.mask.nii.gz\"\n",
    "pvcfile = f\"{prefix}.pvc.frac.nii.gz\"\n",
    "pvc_label_file = f\"{prefix}.pvc.label.nii.gz\"\n",
    "warped_air_atlas = f'{prefix}.warped.airatlas.nii.gz'\n",
    "warped_air_labels = f'{prefix}.hemi.label.nii.gz'\n",
    "air_atlas = \"/home/ajoshi/Downloads/VERVET/brainsuite/VALiDATe12-airatlas/VALiDATe12-t1.airatlas.nii.gz\"\n",
    "air_atlas_labels = \"/home/ajoshi/Downloads/VERVET/brainsuite/VALiDATe12-airatlas/VALiDATe12-t1.airatlas.label.nii.gz\"\n",
    "\n",
    "reg_mat = f\"{prefix}.airatlas.mat\"\n"
   ]
  },
  {
   "cell_type": "code",
   "execution_count": null,
   "metadata": {},
   "outputs": [],
   "source": [
    "\n",
    "\n",
    "macbse(mri, bseout, bse_model, maskfile, device=\"cuda\")\n",
    "\n",
    "\n",
    "# use SImpleITK to perform bias field correction\n",
    "# Read the input image\n",
    "inputImage = sitk.ReadImage(bseout)\n",
    "\n",
    "# Set up for processing\n",
    "maskImage = sitk.ReadImage(maskfile)\n",
    "inputImage = sitk.Cast(inputImage, sitk.sitkFloat32)\n",
    "maskImage = sitk.Cast(maskImage, sitk.sitkUInt8)\n"
   ]
  },
  {
   "cell_type": "code",
   "execution_count": null,
   "metadata": {},
   "outputs": [],
   "source": [
    "\n",
    "# Apply the N4BiasFieldCorrection filter\n",
    "corrector = sitk.N4BiasFieldCorrectionImageFilter()\n",
    "corrector.SetMaximumNumberOfIterations([50] * 3)\n",
    "corrector.SetConvergenceThreshold(1e-6)\n",
    "corrector.SetBiasFieldFullWidthAtHalfMaximum(0.15)\n",
    "\n",
    "# Execute the filter\n",
    "outputImage = corrector.Execute(inputImage, maskImage)\n",
    "log_bias_field = corrector.GetLogBiasFieldAsImage(inputImage)\n",
    "bias_field = sitk.Exp(log_bias_field)\n",
    "\n",
    "# Write the result\n",
    "sitk.WriteImage(outputImage, bfcout)\n",
    "sitk.WriteImage(log_bias_field, biasfield)\n"
   ]
  },
  {
   "cell_type": "code",
   "execution_count": null,
   "metadata": {},
   "outputs": [],
   "source": [
    "\n",
    "# do tissue classification in WM GM and CSF. Use FSL's FAST from the command line\n",
    "# fsl5.0-fast -t 1 -n 3 -g -o sub-032196_ses-001_run-1_T1w.bfc.nii.gz sub-032196_ses-001_run-1_T1w.bfc.nii.gz\n",
    "\n",
    "# do tissue classification in WM GM and CSF. Use FSL's FAST from the command line\n",
    "os.system(f\"fast -t 1 -n 3 -g -o {prefix} {bfcout}\")\n",
    "\n"
   ]
  },
  {
   "cell_type": "code",
   "execution_count": null,
   "metadata": {},
   "outputs": [],
   "source": [
    "\n",
    "# Generate Isosurface from the white matter probability map\n",
    "from calendar import c\n",
    "import numpy as np\n",
    "import matplotlib.pyplot as plt\n",
    "from skimage import measure\n",
    "from mpl_toolkits.mplot3d.art3d import Poly3DCollection\n",
    "import nibabel as nib\n",
    "\n",
    "# Load the tissue probability maps\n",
    "gm = nib.load(f\"{prefix}_pve_1.nii.gz\").get_fdata()\n",
    "wm = nib.load(f\"{prefix}_pve_2.nii.gz\").get_fdata()\n",
    "csf = nib.load(f\"{prefix}_pve_0.nii.gz\").get_fdata()\n",
    "\n",
    "affine = nib.load(f\"{prefix}_pve_0.nii.gz\").affine\n",
    "\n",
    "csf_msk = np.double(csf > 0)\n",
    "gm_msk = np.double(gm > 0)\n",
    "wm_msk = np.double(wm > 0)\n",
    "\n",
    "pvc_frac = 1 * csf_msk*(gm_msk==0) \n",
    "pvc_frac += (wm_msk==0)*gm_msk*(1+gm)\n",
    "pvc_frac += wm_msk*(2+wm)\n",
    "\n",
    "\n",
    "nib.save(nib.Nifti1Image(np.float32(pvc_frac), affine=affine), pvcfile)\n",
    "\n",
    "nib.save(nib.Nifti1Image(np.uint8(pvc_frac), affine=affine), pvc_label_file)\n"
   ]
  },
  {
   "cell_type": "code",
   "execution_count": null,
   "metadata": {},
   "outputs": [],
   "source": [
    "cmd = f\"flirt -in {air_atlas} -ref {bfcout} -out {warped_air_atlas} -omat {reg_mat}\"\n",
    "os.system(cmd)\n",
    "\n",
    "cmd = f\"flirt -in {air_atlas_labels} -ref {bfcout} -out {warped_air_labels} -applyxfm -init {reg_mat} -interp nearestneighbour\"\n",
    "os.system(cmd)\n",
    "\n",
    "v = nib.load(warped_air_labels).get_fdata()\n",
    "v = np.uint8(v)\n",
    "nib.save(nib.Nifti1Image(v, affine=affine), warped_air_labels)\n"
   ]
  },
  {
   "cell_type": "code",
   "execution_count": null,
   "metadata": {},
   "outputs": [],
   "source": [
    "v=nib.load(warped_air_labels).get_fdata()\n",
    "m = nib.load(maskfile).get_fdata()\n",
    "m[(v==3) | (v == 4)] = 0\n",
    "m = (m > 0.5)\n",
    "nib.save(nib.Nifti1Image(255*np.uint8(m), affine=affine), cerebrum_maskfile)\n"
   ]
  },
  {
   "cell_type": "code",
   "execution_count": null,
   "metadata": {},
   "outputs": [],
   "source": [
    "cmd = f'./cortical_extraction_macaque.sh {prefix}'\n",
    "os.system(cmd)"
   ]
  }
 ],
 "metadata": {
  "kernelspec": {
   "display_name": "base",
   "language": "python",
   "name": "python3"
  },
  "language_info": {
   "codemirror_mode": {
    "name": "ipython",
    "version": 3
   },
   "file_extension": ".py",
   "mimetype": "text/x-python",
   "name": "python",
   "nbconvert_exporter": "python",
   "pygments_lexer": "ipython3",
   "version": "3.11.5"
  }
 },
 "nbformat": 4,
 "nbformat_minor": 2
}
